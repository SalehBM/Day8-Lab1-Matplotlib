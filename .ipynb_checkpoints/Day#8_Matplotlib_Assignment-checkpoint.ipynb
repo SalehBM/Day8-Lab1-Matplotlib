{
 "cells": [
  {
   "cell_type": "code",
   "execution_count": 1,
   "id": "463214ee",
   "metadata": {},
   "outputs": [],
   "source": [
    "import numpy as np\n",
    "import pandas as pd\n",
    "import matplotlib.pyplot as plt"
   ]
  },
  {
   "cell_type": "markdown",
   "id": "5d9650fe",
   "metadata": {},
   "source": [
    "## Q1: Create two charts using list and dataframe"
   ]
  },
  {
   "cell_type": "code",
   "execution_count": 3,
   "id": "7814bbfa",
   "metadata": {},
   "outputs": [
    {
     "data": {
      "text/plain": [
       "[<matplotlib.lines.Line2D at 0x11d761990>]"
      ]
     },
     "execution_count": 3,
     "metadata": {},
     "output_type": "execute_result"
    },
    {
     "data": {
      "image/png": "[encoded data removed]",
      "text/plain": [
       "<Figure size 432x288 with 1 Axes>"
      ]
     },
     "metadata": {
      "needs_background": "light"
     },
     "output_type": "display_data"
    }
   ],
   "source": [
    "plt.subplot(121)\n",
    "plt.plot([1,2,3,4,5])"
   ]
  },
  {
   "cell_type": "markdown",
   "id": "b47054b9",
   "metadata": {},
   "source": [
    "## Q2: Create pie chart with equal explode values."
   ]
  },
  {
   "cell_type": "code",
   "execution_count": null,
   "id": "c8ec89e1",
   "metadata": {},
   "outputs": [],
   "source": []
  },
  {
   "cell_type": "markdown",
   "id": "778fae26",
   "metadata": {},
   "source": [
    "## Q3: Create a scatter chart with circle marker, alpha = 0.4, and size = 50."
   ]
  },
  {
   "cell_type": "code",
   "execution_count": null,
   "id": "6c46aade",
   "metadata": {},
   "outputs": [],
   "source": []
  },
  {
   "cell_type": "markdown",
   "id": "7f07ea21",
   "metadata": {},
   "source": [
    "## Q4: Add the following to your chart:\n",
    "- title placed in the left and has a red color\n",
    "- x and y label with font size = 16"
   ]
  },
  {
   "cell_type": "code",
   "execution_count": null,
   "id": "d6e700d2",
   "metadata": {},
   "outputs": [],
   "source": []
  },
  {
   "cell_type": "markdown",
   "id": "1e69689c",
   "metadata": {},
   "source": [
    "## Q5: Create three line charts with Legends at left and colors"
   ]
  },
  {
   "cell_type": "code",
   "execution_count": null,
   "id": "139a9f70",
   "metadata": {},
   "outputs": [],
   "source": []
  },
  {
   "cell_type": "markdown",
   "id": "50f84af4",
   "metadata": {},
   "source": [
    "## Q6: Create subplots with three charts and figsize=20,10"
   ]
  },
  {
   "cell_type": "code",
   "execution_count": null,
   "id": "9fa2f9ee",
   "metadata": {},
   "outputs": [],
   "source": []
  }
 ],
 "metadata": {
  "kernelspec": {
   "display_name": "Python 3 (ipykernel)",
   "language": "python",
   "name": "python3"
  },
  "language_info": {
   "codemirror_mode": {
    "name": "ipython",
    "version": 3
   },
   "file_extension": ".py",
   "mimetype": "text/x-python",
   "name": "python",
   "nbconvert_exporter": "python",
   "pygments_lexer": "ipython3",
   "version": "3.10.4"
  }
 },
 "nbformat": 4,
 "nbformat_minor": 5
}
